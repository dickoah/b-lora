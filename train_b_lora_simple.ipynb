{
 "cells": [
  {
   "cell_type": "code",
   "execution_count": 5,
   "metadata": {},
   "outputs": [
    {
     "name": "stdout",
     "output_type": "stream",
     "text": [
      "Mon Oct 28 14:31:12 2024       \n",
      "+-----------------------------------------------------------------------------------------+\n",
      "| NVIDIA-SMI 565.57.02              Driver Version: 566.03         CUDA Version: 12.7     |\n",
      "|-----------------------------------------+------------------------+----------------------+\n",
      "| GPU  Name                 Persistence-M | Bus-Id          Disp.A | Volatile Uncorr. ECC |\n",
      "| Fan  Temp   Perf          Pwr:Usage/Cap |           Memory-Usage | GPU-Util  Compute M. |\n",
      "|                                         |                        |               MIG M. |\n",
      "|=========================================+========================+======================|\n",
      "|   0  NVIDIA GeForce RTX 3080 ...    On  |   00000000:01:00.0  On |                  N/A |\n",
      "| N/A   59C    P8             23W /   80W |    1000MiB /  16384MiB |     29%      Default |\n",
      "|                                         |                        |                  N/A |\n",
      "+-----------------------------------------+------------------------+----------------------+\n",
      "                                                                                         \n",
      "+-----------------------------------------------------------------------------------------+\n",
      "| Processes:                                                                              |\n",
      "|  GPU   GI   CI        PID   Type   Process name                              GPU Memory |\n",
      "|        ID   ID                                                               Usage      |\n",
      "|=========================================================================================|\n",
      "|  No running processes found                                                             |\n",
      "+-----------------------------------------------------------------------------------------+\n"
     ]
    }
   ],
   "source": [
    "!nvidia-smi"
   ]
  },
  {
   "cell_type": "code",
   "execution_count": 2,
   "metadata": {},
   "outputs": [
    {
     "name": "stdout",
     "output_type": "stream",
     "text": [
      "# conda environments:\n",
      "#\n",
      "base                     /home/dickoah/miniconda3\n",
      "b_lora                *  /home/dickoah/miniconda3/envs/b_lora\n",
      "nfinite_genai            /home/dickoah/miniconda3/envs/nfinite_genai\n",
      "\n"
     ]
    }
   ],
   "source": [
    "!conda info --envs"
   ]
  },
  {
   "cell_type": "markdown",
   "metadata": {},
   "source": [
    "### Load Image / Dataset and keyword"
   ]
  },
  {
   "cell_type": "code",
   "execution_count": 3,
   "metadata": {},
   "outputs": [],
   "source": [
    "MODEL = \"/home/dickoah/.cache/huggingface/hub/models--SG161222--RealVisXL_V5.0_Lightning/snapshots/f4454158cedaab9f0688c199561d6c92525f3a85\" #\"stabilityai/stable-diffusion-xl-base-1.0\"\n",
    "INSTANCE_DATA_DIR = \"img/dordogne\"\n",
    "OUTPUT_DIR = \"data/b-lora/Dordogne\"\n",
    "INSTANCE_PROMPT = \"A [dordogne]\""
   ]
  },
  {
   "cell_type": "markdown",
   "metadata": {},
   "source": [
    "### Launch the training "
   ]
  },
  {
   "cell_type": "code",
   "execution_count": 4,
   "metadata": {},
   "outputs": [
    {
     "name": "stdout",
     "output_type": "stream",
     "text": [
      "/home/dickoah/miniconda3/envs/b_lora/lib/python3.9/site-packages/diffusers/utils/outputs.py:63: FutureWarning: `torch.utils._pytree._register_pytree_node` is deprecated. Please use `torch.utils._pytree.register_pytree_node` instead.\n",
      "  torch.utils._pytree._register_pytree_node(\n",
      "/home/dickoah/miniconda3/envs/b_lora/lib/python3.9/site-packages/accelerate/accelerator.py:443: UserWarning: `log_with=tensorboard` was passed but no supported trackers are currently installed.\n",
      "  warnings.warn(f\"`log_with={log_with}` was passed but no supported trackers are currently installed.\")\n",
      "10/28/2024 14:10:49 - INFO - __main__ - Distributed environment: NO\n",
      "Num processes: 1\n",
      "Process index: 0\n",
      "Local process index: 0\n",
      "Device: cuda\n",
      "\n",
      "Mixed precision type: fp16\n",
      "\n",
      "You are using a model of type clip_text_model to instantiate a model of type . This is not supported for all configurations of models and can yield errors.\n",
      "You are using a model of type clip_text_model to instantiate a model of type . This is not supported for all configurations of models and can yield errors.\n",
      "/home/dickoah/miniconda3/envs/b_lora/lib/python3.9/site-packages/diffusers/utils/outputs.py:63: FutureWarning: `torch.utils._pytree._register_pytree_node` is deprecated. Please use `torch.utils._pytree.register_pytree_node` instead.\n",
      "  torch.utils._pytree._register_pytree_node(\n",
      "{'variance_type'} was not found in config. Values will be initialized to default values.\n",
      "The config attributes {'latents_mean': None, 'latents_std': None, 'mid_block_add_attention': True, 'shift_factor': None, 'use_post_quant_conv': True, 'use_quant_conv': True} were passed to AutoencoderKL, but are not expected and will be ignored. Please verify your config.json configuration file.\n",
      "10/28/2024 14:11:04 - INFO - __main__ - ***** Running training *****\n",
      "10/28/2024 14:11:04 - INFO - __main__ -   Num examples = 1\n",
      "10/28/2024 14:11:04 - INFO - __main__ -   Num batches each epoch = 1\n",
      "10/28/2024 14:11:04 - INFO - __main__ -   Num Epochs = 1000\n",
      "10/28/2024 14:11:04 - INFO - __main__ -   Instantaneous batch size per device = 1\n",
      "10/28/2024 14:11:04 - INFO - __main__ -   Total train batch size (w. parallel, distributed & accumulation) = 1\n",
      "10/28/2024 14:11:04 - INFO - __main__ -   Gradient Accumulation steps = 1\n",
      "10/28/2024 14:11:04 - INFO - __main__ -   Total optimization steps = 1000\n",
      "Steps:   0%|                                           | 0/1000 [00:00<?, ?it/s]===============\n",
      "loss.requires_grad:  False\n",
      "loss.grad_fn None\n",
      "===============\n",
      "Traceback (most recent call last):\n",
      "  File \"/mnt/c/Workspace/src/genai/b-lora/train_dreambooth_b-lora_sdxl.py\", line 2033, in <module>\n",
      "    main(args)\n",
      "  File \"/home/dickoah/miniconda3/envs/b_lora/lib/python3.9/site-packages/torch/utils/_contextlib.py\", line 116, in decorate_context\n",
      "    return func(*args, **kwargs)\n",
      "  File \"/mnt/c/Workspace/src/genai/b-lora/train_dreambooth_b-lora_sdxl.py\", line 1763, in main\n",
      "    accelerator.backward(loss)\n",
      "  File \"/home/dickoah/miniconda3/envs/b_lora/lib/python3.9/site-packages/accelerate/accelerator.py\", line 2242, in backward\n",
      "    self.scaler.scale(loss).backward(**kwargs)\n",
      "  File \"/home/dickoah/miniconda3/envs/b_lora/lib/python3.9/site-packages/torch/_tensor.py\", line 521, in backward\n",
      "    torch.autograd.backward(\n",
      "  File \"/home/dickoah/miniconda3/envs/b_lora/lib/python3.9/site-packages/torch/autograd/__init__.py\", line 289, in backward\n",
      "    _engine_run_backward(\n",
      "  File \"/home/dickoah/miniconda3/envs/b_lora/lib/python3.9/site-packages/torch/autograd/graph.py\", line 769, in _engine_run_backward\n",
      "    return Variable._execution_engine.run_backward(  # Calls into the C++ engine to run the backward pass\n",
      "RuntimeError: element 0 of tensors does not require grad and does not have a grad_fn\n",
      "Steps:   0%|                                           | 0/1000 [00:01<?, ?it/s]\n",
      "Traceback (most recent call last):\n",
      "  File \"/home/dickoah/miniconda3/envs/b_lora/bin/accelerate\", line 8, in <module>\n",
      "    sys.exit(main())\n",
      "  File \"/home/dickoah/miniconda3/envs/b_lora/lib/python3.9/site-packages/accelerate/commands/accelerate_cli.py\", line 48, in main\n",
      "    args.func(args)\n",
      "  File \"/home/dickoah/miniconda3/envs/b_lora/lib/python3.9/site-packages/accelerate/commands/launch.py\", line 1168, in launch_command\n",
      "    simple_launcher(args)\n",
      "  File \"/home/dickoah/miniconda3/envs/b_lora/lib/python3.9/site-packages/accelerate/commands/launch.py\", line 763, in simple_launcher\n",
      "    raise subprocess.CalledProcessError(returncode=process.returncode, cmd=cmd)\n",
      "subprocess.CalledProcessError: Command '['/home/dickoah/miniconda3/envs/b_lora/bin/python', 'train_dreambooth_b-lora_sdxl.py', '--pretrained_model_name_or_path=/home/dickoah/.cache/huggingface/hub/models--SG161222--RealVisXL_V5.0_Lightning/snapshots/f4454158cedaab9f0688c199561d6c92525f3a85', '--instance_data_dir=img/dordogne', '--output_dir=data/b-lora/Dordogne', '--instance_prompt=A [dordogne]', '--resolution=1024', '--rank=64', '--train_batch_size=1', '--learning_rate=5e-5', '--lr_scheduler=constant', '--lr_warmup_steps=0', '--max_train_steps=1000', '--checkpointing_steps=1000', '--seed=0', '--gradient_checkpointing', '--use_8bit_adam', '--mixed_precision=fp16']' returned non-zero exit status 1.\n"
     ]
    }
   ],
   "source": [
    "!accelerate launch train_dreambooth_b-lora_sdxl.py \\\n",
    " --pretrained_model_name_or_path=\"$MODEL\" \\\n",
    " --instance_data_dir=\"$INSTANCE_DATA_DIR\" \\\n",
    " --output_dir=\"$OUTPUT_DIR\" \\\n",
    " --instance_prompt=\"$INSTANCE_PROMPT\" \\\n",
    " --resolution=1024 \\\n",
    " --rank=64 \\\n",
    " --train_batch_size=1 \\\n",
    " --learning_rate=5e-5 \\\n",
    " --lr_scheduler=\"constant\" \\\n",
    " --lr_warmup_steps=0 \\\n",
    " --max_train_steps=1000 \\\n",
    " --checkpointing_steps=1000 \\\n",
    " --seed=\"0\" \\\n",
    " --gradient_checkpointing \\\n",
    " --use_8bit_adam \\\n",
    " --mixed_precision=\"fp16\""
   ]
  }
 ],
 "metadata": {
  "kernelspec": {
   "display_name": "b_lora",
   "language": "python",
   "name": "python3"
  },
  "language_info": {
   "codemirror_mode": {
    "name": "ipython",
    "version": 3
   },
   "file_extension": ".py",
   "mimetype": "text/x-python",
   "name": "python",
   "nbconvert_exporter": "python",
   "pygments_lexer": "ipython3",
   "version": "3.9.20"
  }
 },
 "nbformat": 4,
 "nbformat_minor": 2
}
